{
  "nbformat": 4,
  "nbformat_minor": 0,
  "metadata": {
    "colab": {
      "provenance": []
    },
    "kernelspec": {
      "name": "python3",
      "display_name": "Python 3"
    },
    "language_info": {
      "name": "python"
    }
  },
  "cells": [
    {
      "cell_type": "code",
      "execution_count": null,
      "metadata": {
        "colab": {
          "base_uri": "https://localhost:8080/"
        },
        "id": "Xeo17l4-idaC",
        "outputId": "59d17198-3da8-49db-806a-7fad6faaa49c"
      },
      "outputs": [
        {
          "output_type": "stream",
          "name": "stdout",
          "text": [
            "Bir sayı girin10\n",
            "İkinci bir sayı girin0\n",
            "division by zero\n",
            "Programı kullandığnız için teşekkür ederiz, görüşmek\n"
          ]
        }
      ],
      "source": [
        "\n",
        "\n",
        "try:\n",
        "  a = int(input(\"Bir sayı girin\"))\n",
        "  b = int(input(\"İkinci bir sayı girin\"))\n",
        "  bolum = a / b\n",
        "  print(\"Bolum = \" + str(bolum))\n",
        "\n",
        "except Exception as e :\n",
        "  print(e)\n",
        "\n",
        "finally:\n",
        "  print(\"Programı kullandığnız için teşekkür ederiz, görüşmek\")"
      ]
    },
    {
      "cell_type": "code",
      "source": [
        "\n",
        "while True:\n",
        "  try:\n",
        "\n",
        "      a = int(input(\"Sayı 1:\"))\n",
        "      b = int(input(\"Sayı 2:\"))\n",
        "      bolum = a / b\n",
        "\n",
        "  except :\n",
        "    print(\"Bolme işleminde hata var\")\n",
        "  else :\n",
        "    print(\"Bolum : \" + str(bolum))"
      ],
      "metadata": {
        "colab": {
          "base_uri": "https://localhost:8080/"
        },
        "id": "ZFDugaaRifsC",
        "outputId": "4da6ec12-05de-4c33-9d26-141029de2b1e"
      },
      "execution_count": null,
      "outputs": [
        {
          "output_type": "stream",
          "name": "stdout",
          "text": [
            "Bolme işleminde hata var\n"
          ]
        }
      ]
    }
  ]
}