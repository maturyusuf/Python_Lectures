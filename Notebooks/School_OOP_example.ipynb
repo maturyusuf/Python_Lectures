{
  "nbformat": 4,
  "nbformat_minor": 0,
  "metadata": {
    "colab": {
      "provenance": []
    },
    "kernelspec": {
      "name": "python3",
      "display_name": "Python 3"
    },
    "language_info": {
      "name": "python"
    }
  },
  "cells": [
    {
      "cell_type": "code",
      "execution_count": null,
      "metadata": {
        "id": "TsvxTqfDG6xl"
      },
      "outputs": [],
      "source": [
        "class Employee:\n",
        "    salary_raise = 1.25\n",
        "\n",
        "    def __init__(self,firstName,lastName,age,salary):\n",
        "        #instance variables\n",
        "        self.firstName = firstName   # attribute\n",
        "        self.lastName = lastName\n",
        "        self.age = age\n",
        "        self.salary = salary\n",
        "\n",
        "    @property\n",
        "    def full_Name(self):\n",
        "\n",
        "        full_Name_of_employee = self.firstName + \" \" + self.lastName\n",
        "        return full_Name_of_employee\n",
        "\n",
        "\n",
        "    def print_all(self,employee_first_name, employee_last_name ):\n",
        "        if(employee_first_name == self.firstName):\n",
        "            return self.firstName + \" \" + self.lastName + \" \" + str(self.age) + \" \" + str(self.salary)\n",
        "\n",
        "    def give_raise(self):\n",
        "        self.salary = self.salary * self.salary_raise\n",
        "\n",
        "    @classmethod\n",
        "    def change_raise_ratio(cls,new_raise_ratio ):\n",
        "            cls.salary_raise = new_raise_ratio\n",
        "\n",
        "    @staticmethod\n",
        "    def print_under_average(myValue):\n",
        "      if myValue > 15000:\n",
        "        print(\"Maaşınız düşük\")\n",
        "      else:\n",
        "        print(\"Maaşınız yüksek\")\n",
        "\n",
        "\n"
      ]
    },
    {
      "cell_type": "code",
      "source": [
        "employee1 = Employee(\"Enver\", \"Balci\", 21, 10000)\n",
        "print(\"İlk maaş:   \"+  str(employee1.salary))\n",
        "\n",
        "employee1.give_raise()\n",
        "\n",
        "print(\"İlk zam oranıyla Yeni maaş\"+ str(employee1.salary))\n",
        "\n",
        "Employee.change_raise_ratio(1.5)\n",
        "\n",
        "print(\"İkinci zam oranıyla Yeni maaş\"+ str(employee1.salary))\n",
        "\n",
        "employee1.print_under_average(15000)"
      ],
      "metadata": {
        "colab": {
          "base_uri": "https://localhost:8080/"
        },
        "id": "Tbt2ZR_1HAqa",
        "outputId": "27eb900e-1b13-4a07-f2c7-5ee8267bac47"
      },
      "execution_count": null,
      "outputs": [
        {
          "output_type": "stream",
          "name": "stdout",
          "text": [
            "İlk maaş:   10000\n",
            "İlk zam oranıyla Yeni maaş12500.0\n",
            "İkinci zam oranıyla Yeni maaş12500.0\n",
            "Maaşınız yüksek\n"
          ]
        }
      ]
    },
    {
      "cell_type": "code",
      "source": [
        "\n",
        "from abc import ABC, abstractmethod\n",
        "\n",
        "class School(ABC):\n",
        "    def __init__(self, firstName, lastName, age):\n",
        "        self.firstName = firstName\n",
        "        self.lastName = lastName\n",
        "        self.age = age\n",
        "\n",
        "    @abstractmethod\n",
        "    def print_Stuff(self):\n",
        "        print(\"FirstName: \" + self.firstName)\n",
        "\n",
        "\n",
        "\n",
        "class Student(School):\n",
        "    def __init__(self, firstName, lastName, age, grade, number):\n",
        "        super().__init__(firstName, lastName, age)\n",
        "        self.grade = grade\n",
        "        self.number = number\n",
        "\n",
        "    def print_Stuff(self):\n",
        "        print(\"FirstName: \" + self.firstName)\n",
        "\n",
        "class Management(School):\n",
        "    def __init__(self, firstName, lastName, age, salary, resp_year):\n",
        "        super().__init__(firstName, lastName, age)\n",
        "        self.salary = salary\n",
        "        self.resp_year = resp_year\n",
        "\n",
        "\n",
        "\n",
        "student1 = Student(\"Yusuf\", \"Matur\",20, 10, 15).print_Stuff()\n",
        "\n",
        "\n",
        "\n",
        "\n"
      ],
      "metadata": {
        "colab": {
          "base_uri": "https://localhost:8080/"
        },
        "id": "5cOzn6dZXK-G",
        "outputId": "7ce44fe5-8aee-4cda-ff2e-78c362165d69"
      },
      "execution_count": 27,
      "outputs": [
        {
          "output_type": "stream",
          "name": "stdout",
          "text": [
            "FirstName: Yusuf\n"
          ]
        }
      ]
    }
  ]
}