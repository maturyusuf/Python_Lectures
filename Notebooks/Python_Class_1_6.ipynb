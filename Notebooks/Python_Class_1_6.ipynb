{
  "nbformat": 4,
  "nbformat_minor": 0,
  "metadata": {
    "colab": {
      "provenance": []
    },
    "kernelspec": {
      "name": "python3",
      "display_name": "Python 3"
    },
    "language_info": {
      "name": "python"
    }
  },
  "cells": [
    {
      "cell_type": "code",
      "execution_count": null,
      "metadata": {
        "colab": {
          "base_uri": "https://localhost:8080/"
        },
        "id": "XAtin31FbSKD",
        "outputId": "37f462f8-67d6-4068-ded4-f001d5a11356"
      },
      "outputs": [
        {
          "output_type": "stream",
          "name": "stdout",
          "text": [
            "1\n",
            "2\n",
            "3\n",
            "4\n",
            "5\n",
            "6\n"
          ]
        }
      ],
      "source": [
        "# For Loop\n",
        "\n",
        "myList = [1,2,3,4,5,6]\n",
        "\n",
        "for i in myList:\n",
        "  print(i)"
      ]
    },
    {
      "cell_type": "code",
      "source": [
        "for i in range(6):\n",
        "  print(\"This is \" + str(i) + \". element\")"
      ],
      "metadata": {
        "colab": {
          "base_uri": "https://localhost:8080/"
        },
        "id": "76vsvO-fdHVm",
        "outputId": "b9e1799b-548e-4fdb-9f42-6b5056743240"
      },
      "execution_count": null,
      "outputs": [
        {
          "output_type": "stream",
          "name": "stdout",
          "text": [
            "This is 0. element\n",
            "This is 1. element\n",
            "This is 2. element\n",
            "This is 3. element\n",
            "This is 4. element\n",
            "This is 5. element\n"
          ]
        }
      ]
    },
    {
      "cell_type": "code",
      "source": [
        "myRange = range(6)\n",
        "print(myRange)\n",
        "\n",
        "print(type(myRange))\n",
        "\n",
        "\n"
      ],
      "metadata": {
        "colab": {
          "base_uri": "https://localhost:8080/"
        },
        "id": "WOzWkxuUdTd_",
        "outputId": "20f08dc2-207c-4ae2-bdff-541a1d7bbcc5"
      },
      "execution_count": null,
      "outputs": [
        {
          "output_type": "stream",
          "name": "stdout",
          "text": [
            "range(0, 6)\n",
            "<class 'range'>\n",
            "<class 'int'>\n"
          ]
        }
      ]
    },
    {
      "cell_type": "code",
      "source": [
        "type(a)"
      ],
      "metadata": {
        "colab": {
          "base_uri": "https://localhost:8080/"
        },
        "id": "3UrEQy4MDOPm",
        "outputId": "41b19f4e-1581-41f5-84b4-9e6308ea50b5"
      },
      "execution_count": null,
      "outputs": [
        {
          "output_type": "execute_result",
          "data": {
            "text/plain": [
              "int"
            ]
          },
          "metadata": {},
          "execution_count": 6
        }
      ]
    },
    {
      "cell_type": "code",
      "source": [
        "a = 6\n",
        "b = 7\n",
        "c = 8\n",
        "\n",
        "a\n",
        "b\n",
        "c"
      ],
      "metadata": {
        "colab": {
          "base_uri": "https://localhost:8080/"
        },
        "id": "U2-OhEXWDRM0",
        "outputId": "52968c42-a7c0-4fce-ec87-3e364747beae"
      },
      "execution_count": null,
      "outputs": [
        {
          "output_type": "execute_result",
          "data": {
            "text/plain": [
              "8"
            ]
          },
          "metadata": {},
          "execution_count": 9
        }
      ]
    },
    {
      "cell_type": "code",
      "source": [
        "for i in range(2, 6):\n",
        "  print(i)\n",
        "  if(i == 4):\n",
        "    break"
      ],
      "metadata": {
        "colab": {
          "base_uri": "https://localhost:8080/"
        },
        "id": "Xltkov8ddemv",
        "outputId": "196b4fb7-ccff-4624-f481-a06dc5185282"
      },
      "execution_count": null,
      "outputs": [
        {
          "output_type": "stream",
          "name": "stdout",
          "text": [
            "2\n",
            "3\n",
            "4\n"
          ]
        }
      ]
    },
    {
      "cell_type": "code",
      "source": [
        "# break statement\n",
        "\n",
        "firstList = [\"Yusuf\", \"Yasemin\",\"Hakan\", \"Hazal\", \"Deniz\", \"Sude\"]\n",
        "\n",
        "for first in firstList:\n",
        "      current_name = first\n",
        "      print(current_name)\n",
        "      if current_name == \"Hazal\":\n",
        "        print(\"Hazal is printed\")\n",
        "        break\n",
        "\n",
        "\n",
        "\n",
        "\n"
      ],
      "metadata": {
        "colab": {
          "base_uri": "https://localhost:8080/"
        },
        "id": "FcOOg5kfd4Av",
        "outputId": "c44d71ce-33c2-4cc2-b320-10d013a0fef9"
      },
      "execution_count": null,
      "outputs": [
        {
          "output_type": "stream",
          "name": "stdout",
          "text": [
            "Yusuf\n",
            "Yasemin\n",
            "Hakan\n",
            "Hazal\n",
            "Hazal is printed\n"
          ]
        }
      ]
    },
    {
      "cell_type": "code",
      "source": [
        "\n",
        "# break statement in nested loops\n",
        "\n",
        "firstList = [\"Yusuf\", \"Hazal\", \"Hakan\"]\n",
        "secondList = [\"Matur\", \"Demirci\", \"Polat\"]\n",
        "\n",
        "for first in firstList:\n",
        "  for last in secondList:\n",
        "    fullName = first + \" \" + last\n",
        "    print(fullName)\n",
        "    if fullName == \"Hazal Matur\": # it only breaks the inner loop\n",
        "      break\n"
      ],
      "metadata": {
        "colab": {
          "base_uri": "https://localhost:8080/"
        },
        "id": "AJO36LcbgtVb",
        "outputId": "3ccab050-cf17-4e9b-f83d-9b6d5953a9c4"
      },
      "execution_count": null,
      "outputs": [
        {
          "output_type": "stream",
          "name": "stdout",
          "text": [
            "Yusuf Matur\n",
            "Yusuf Demirci\n",
            "Yusuf Polat\n",
            "Hazal Matur\n",
            "Hakan Matur\n",
            "Hakan Demirci\n",
            "Hakan Polat\n"
          ]
        }
      ]
    },
    {
      "cell_type": "code",
      "source": [
        "# continue statement\n",
        "\n",
        "numbers = [1, 2, 3, 4, 5, 6, 7]\n",
        "for number in numbers:\n",
        "  if number % 2 == 1:\n",
        "    continue\n",
        "  print( str(number) + \" is an even number\")"
      ],
      "metadata": {
        "colab": {
          "base_uri": "https://localhost:8080/"
        },
        "id": "lf6_6V_hkWfY",
        "outputId": "695c1ac2-02e8-4005-86f2-58f13ef9ec3e"
      },
      "execution_count": null,
      "outputs": [
        {
          "output_type": "stream",
          "name": "stdout",
          "text": [
            "2 is an even number\n",
            "4 is an even number\n",
            "6 is an even number\n"
          ]
        }
      ]
    },
    {
      "cell_type": "code",
      "source": [
        "# While Loop\n",
        "i = 0\n",
        "while i < 10:\n",
        "  print(i)\n",
        "  i +=1\n",
        "\n",
        "# i = i + 1"
      ],
      "metadata": {
        "id": "ZEbG7ctreZwv"
      },
      "execution_count": null,
      "outputs": []
    },
    {
      "cell_type": "code",
      "source": [
        "while True:\n",
        "  name = input(\"Say my name:\")\n",
        "  if name == \"Yusuf Matur\":\n",
        "    print(\"You are a Sith Lord, You have no access\")\n",
        "    break\n",
        "  print(\"May the force be with you \" + name)"
      ],
      "metadata": {
        "id": "awc7hMaHe4af",
        "colab": {
          "base_uri": "https://localhost:8080/"
        },
        "outputId": "b92a3f22-0c82-4781-a788-5b75b49ba052"
      },
      "execution_count": null,
      "outputs": [
        {
          "output_type": "stream",
          "name": "stdout",
          "text": [
            "Say my name:Deniz Matur\n",
            "May the force be with you Deniz Matur\n",
            "Say my name:Yusuf Matur\n",
            "You are a Sith Lord, You have no access\n"
          ]
        }
      ]
    },
    {
      "cell_type": "code",
      "source": [
        "numbers = [1, 2, 3, 4, 5, 6, 7]\n",
        "i = 1\n",
        "while i < 7:\n",
        "  if numbers[i] % 2 == 0:\n",
        "    i+=1\n",
        "    continue\n",
        "  print(str(i) + \" is an odd number\" )\n",
        "  i+=1\n",
        "\n"
      ],
      "metadata": {
        "id": "fdvjVM4kfgq-",
        "colab": {
          "base_uri": "https://localhost:8080/"
        },
        "outputId": "879f9c2d-80dd-45f7-8949-48cbdf2fadff"
      },
      "execution_count": null,
      "outputs": [
        {
          "output_type": "stream",
          "name": "stdout",
          "text": [
            "2 is an odd number\n",
            "4 is an odd number\n",
            "6 is an odd number\n"
          ]
        }
      ]
    },
    {
      "cell_type": "code",
      "source": [],
      "metadata": {
        "id": "frmBslSnl9Hx"
      },
      "execution_count": null,
      "outputs": []
    },
    {
      "cell_type": "code",
      "source": [],
      "metadata": {
        "id": "i3uape2RPIor"
      },
      "execution_count": null,
      "outputs": []
    }
  ]
}