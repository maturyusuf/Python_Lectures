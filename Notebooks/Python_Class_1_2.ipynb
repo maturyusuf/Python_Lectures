{
  "nbformat": 4,
  "nbformat_minor": 0,
  "metadata": {
    "colab": {
      "provenance": []
    },
    "kernelspec": {
      "name": "python3",
      "display_name": "Python 3"
    },
    "language_info": {
      "name": "python"
    }
  },
  "cells": [
    {
      "cell_type": "markdown",
      "source": [
        "# Basic Syntax and Data Types\n",
        "\n",
        "### First Program"
      ],
      "metadata": {
        "id": "NuF_GmugaQ9S"
      }
    },
    {
      "cell_type": "code",
      "execution_count": null,
      "metadata": {
        "colab": {
          "base_uri": "https://localhost:8080/"
        },
        "id": "3gyCEYTXaPSM",
        "outputId": "7bc0373c-e7b2-48ad-eb36-274154957afd"
      },
      "outputs": [
        {
          "output_type": "stream",
          "name": "stdout",
          "text": [
            "Hello Yusuf\n"
          ]
        }
      ],
      "source": [
        "print(\"Hello Yusuf\")"
      ]
    },
    {
      "cell_type": "markdown",
      "source": [
        "## Indentation\n",
        "\n",
        "Python is sensitive to indentations in the code segment.Comparing other programming languages, it uses indented spaces rather than curly brackets( {} )"
      ],
      "metadata": {
        "id": "KKJGvu4_ar2O"
      }
    },
    {
      "cell_type": "code",
      "source": [
        "# Wrong Indentation\n",
        "\n",
        "if(1 < 2):\n",
        "print(\"1 is smaller than 2\")"
      ],
      "metadata": {
        "colab": {
          "base_uri": "https://localhost:8080/",
          "height": 141
        },
        "id": "bbJ9P9xparSE",
        "outputId": "04054f86-f612-4700-840e-b2e579f07cd9"
      },
      "execution_count": null,
      "outputs": [
        {
          "output_type": "error",
          "ename": "IndentationError",
          "evalue": "ignored",
          "traceback": [
            "\u001b[0;36m  File \u001b[0;32m\"<ipython-input-5-14393ebd2974>\"\u001b[0;36m, line \u001b[0;32m4\u001b[0m\n\u001b[0;31m    print(\"1 is smaller than 2\")\u001b[0m\n\u001b[0m    ^\u001b[0m\n\u001b[0;31mIndentationError\u001b[0m\u001b[0;31m:\u001b[0m expected an indented block after 'if' statement on line 3\n"
          ]
        }
      ]
    },
    {
      "cell_type": "code",
      "source": [
        "# Right Indentation\n",
        "\n",
        "if(1 < 2):\n",
        "  print(\"1 is smaller than 2\")\n",
        "\n",
        "# See the blank space (indent) on the left of the pritn line"
      ],
      "metadata": {
        "colab": {
          "base_uri": "https://localhost:8080/"
        },
        "id": "RBJ6n6ofbR6p",
        "outputId": "876dd7c6-f815-4d4f-8be1-ce95e0ff195f"
      },
      "execution_count": null,
      "outputs": [
        {
          "output_type": "stream",
          "name": "stdout",
          "text": [
            "1 is smaller than 2\n"
          ]
        }
      ]
    },
    {
      "cell_type": "markdown",
      "source": [
        "## Comment Lines\n",
        "\n",
        "Comment Lines are used for storing parts that they don't store as a code inside code block, such as explanations, notes etc.\n",
        "\n",
        "Using \"#\" symbol allows developer to convert the line after the symbol into a comment line"
      ],
      "metadata": {
        "id": "Yyk4UP-ocbH4"
      }
    },
    {
      "cell_type": "code",
      "source": [
        "# This is a comment line\n",
        "\n",
        "# You\n",
        "# can\n",
        "# add\n",
        "# multiple\n",
        "# command\n",
        "# line\n",
        "\n",
        "This is not a comment line but # This is a comment line"
      ],
      "metadata": {
        "id": "YUtPaNT3cavD"
      },
      "execution_count": null,
      "outputs": []
    },
    {
      "cell_type": "markdown",
      "source": [
        "You can also use \"\"\" \"\"\" notation to convert a block of code into a comment line"
      ],
      "metadata": {
        "id": "S-Pi0B2adG5x"
      }
    },
    {
      "cell_type": "code",
      "source": [
        "\"\"\"\n",
        "This is a block of comment\n",
        "This is not included in the code\n",
        "Just an explanation part\n",
        "You can leave notes here\n",
        "\"\"\""
      ],
      "metadata": {
        "id": "7D0i2RKWdGpn"
      },
      "execution_count": null,
      "outputs": []
    },
    {
      "cell_type": "markdown",
      "source": [
        "#Variables\n",
        "\n",
        "Variables are containers for storing data values.\n",
        "\n",
        "## Creating Variables\n",
        "\n",
        "Python has no command for declaring a variable.\n",
        "\n",
        "A variable is created the moment you first assign a value to it.\n",
        "\n"
      ],
      "metadata": {
        "id": "lA8RbtNbfKFs"
      }
    },
    {
      "cell_type": "code",
      "source": [
        "x = 10\n",
        "\n",
        "y = 10.1\n",
        "\n",
        "name = \"Yusuf\"\n",
        "\n",
        "print(x)\n",
        "print(y)\n",
        "print(\"Anakin Skywalker\")"
      ],
      "metadata": {
        "colab": {
          "base_uri": "https://localhost:8080/"
        },
        "id": "JRBoe1ktfJzM",
        "outputId": "2a403b74-36cf-47e8-d001-50b68216220b"
      },
      "execution_count": null,
      "outputs": [
        {
          "output_type": "stream",
          "name": "stdout",
          "text": [
            "10\n",
            "10.1\n",
            "Anakin Skywalker\n"
          ]
        }
      ]
    },
    {
      "cell_type": "code",
      "source": [
        "print(\"My age is :\" + 10)"
      ],
      "metadata": {
        "id": "zw42OM_bzlYs",
        "outputId": "ad7f9c57-84d9-4464-89a9-1b6a5fffe0bc",
        "colab": {
          "base_uri": "https://localhost:8080/",
          "height": 176
        }
      },
      "execution_count": null,
      "outputs": [
        {
          "output_type": "error",
          "ename": "TypeError",
          "evalue": "ignored",
          "traceback": [
            "\u001b[0;31m---------------------------------------------------------------------------\u001b[0m",
            "\u001b[0;31mTypeError\u001b[0m                                 Traceback (most recent call last)",
            "\u001b[0;32m<ipython-input-6-0127ec82bf73>\u001b[0m in \u001b[0;36m<cell line: 1>\u001b[0;34m()\u001b[0m\n\u001b[0;32m----> 1\u001b[0;31m \u001b[0mprint\u001b[0m\u001b[0;34m(\u001b[0m\u001b[0;34m\"My age is :\"\u001b[0m \u001b[0;34m+\u001b[0m \u001b[0;36m10\u001b[0m\u001b[0;34m)\u001b[0m\u001b[0;34m\u001b[0m\u001b[0;34m\u001b[0m\u001b[0m\n\u001b[0m",
            "\u001b[0;31mTypeError\u001b[0m: can only concatenate str (not \"int\") to str"
          ]
        }
      ]
    },
    {
      "cell_type": "code",
      "source": [
        "# Valid Variable Naming Examples\n",
        "\n",
        "myvar = \"John\"\n",
        "my_var = \"John\"\n",
        "_my_var = \"John\"\n",
        "myVar = \"John\"\n",
        "MYVAR = \"John\"\n",
        "myvar2 = \"John\""
      ],
      "metadata": {
        "id": "ieX30w4sgOi4"
      },
      "execution_count": null,
      "outputs": []
    },
    {
      "cell_type": "code",
      "source": [
        "# invalid Variable Naming Examples\n",
        "\n",
        "2myvar = \"John\"\n",
        "my-var = \"John\"\n",
        "my var = \"John\"\n",
        "class = \"Python & Machine Learning Class\""
      ],
      "metadata": {
        "id": "xeXiZ1lXgYoa"
      },
      "execution_count": null,
      "outputs": []
    },
    {
      "cell_type": "code",
      "source": [
        "# You can assign multiple variables\n",
        "\n",
        "a, b, c = \"Deniz\", \"Yusuf\", \"Yasemin\"\n",
        "\n",
        "x, y, z = 10, 20 , 30\n",
        "\n",
        "first, second, third = \"A\", 20, \"Third\""
      ],
      "metadata": {
        "id": "JvPReMDziEQ5"
      },
      "execution_count": null,
      "outputs": []
    },
    {
      "cell_type": "code",
      "source": [
        "# You can use \"print()\" function to get the output of variables\n",
        "\n",
        "myName = \"Yusuf\"\n",
        "print(myName)"
      ],
      "metadata": {
        "colab": {
          "base_uri": "https://localhost:8080/"
        },
        "id": "qO1BL06Aid52",
        "outputId": "4c8599f2-46a9-46e2-f354-82ab2699f747"
      },
      "execution_count": null,
      "outputs": [
        {
          "output_type": "stream",
          "name": "stdout",
          "text": [
            "Yusuf\n"
          ]
        }
      ]
    },
    {
      "cell_type": "code",
      "source": [
        "myName = \"Yusuf\"\n",
        "yourName = \"Deniz\"\n",
        "age = 10\n",
        "print(myName, yourName, age)\n"
      ],
      "metadata": {
        "colab": {
          "base_uri": "https://localhost:8080/"
        },
        "id": "8fjxCNGUi4S2",
        "outputId": "de918345-ad22-49da-bf9c-7b7dd1a68c81"
      },
      "execution_count": null,
      "outputs": [
        {
          "output_type": "stream",
          "name": "stdout",
          "text": [
            "Yusuf Deniz 10\n"
          ]
        }
      ]
    },
    {
      "cell_type": "code",
      "source": [
        "# You can print an variable inside a text using \"+\" operator\n",
        "\n",
        "myName = \"Yusuf\"\n",
        "\n",
        "print(\"I'am \" + myName + \" and I love Mexican Burger\")\n"
      ],
      "metadata": {
        "colab": {
          "base_uri": "https://localhost:8080/"
        },
        "id": "qFgdo5-DjBtA",
        "outputId": "b67e70d4-734b-4a54-e770-336f4afc18bb"
      },
      "execution_count": null,
      "outputs": [
        {
          "output_type": "stream",
          "name": "stdout",
          "text": [
            "I'am Yusuf and I love Mexican Burger\n"
          ]
        }
      ]
    }
  ]
}