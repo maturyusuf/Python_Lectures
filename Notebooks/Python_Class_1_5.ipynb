{
  "nbformat": 4,
  "nbformat_minor": 0,
  "metadata": {
    "colab": {
      "provenance": []
    },
    "kernelspec": {
      "name": "python3",
      "display_name": "Python 3"
    },
    "language_info": {
      "name": "python"
    }
  },
  "cells": [
    {
      "cell_type": "code",
      "execution_count": null,
      "metadata": {
        "id": "gBOgC3GtL8pr",
        "colab": {
          "base_uri": "https://localhost:8080/"
        },
        "outputId": "254168d3-d3c4-4956-a655-789c8f0dbba4"
      },
      "outputs": [
        {
          "output_type": "stream",
          "name": "stdout",
          "text": [
            "I am Not in if\n"
          ]
        }
      ],
      "source": [
        "# Conditional Statements\n",
        "\n",
        "# If conditions\n",
        "\n",
        "i = 10\n",
        "\n",
        "if (i > 15):\n",
        "    print(\"10 is less than 15\")\n",
        "print(\"I am Not in if\")"
      ]
    },
    {
      "cell_type": "code",
      "source": [
        "# If-Else Condition\n",
        "\n",
        "i = 15\n",
        "\n",
        "if i < 15:\n",
        "    print(\"The number is lesser than 15\")\n",
        "\n",
        "else:\n",
        "  print(\"The number is greter than 15\")"
      ],
      "metadata": {
        "colab": {
          "base_uri": "https://localhost:8080/"
        },
        "id": "F7B6yN4JXyXa",
        "outputId": "8117cc28-9dbb-4934-ad10-0840209aff30"
      },
      "execution_count": null,
      "outputs": [
        {
          "output_type": "stream",
          "name": "stdout",
          "text": [
            "The number is greter than 15\n"
          ]
        }
      ]
    },
    {
      "cell_type": "code",
      "source": [
        "# Elif condition\n",
        "name = \"Yusuf\"\n",
        "\n",
        "if name == \"Deniz\":\n",
        "    print(\"Access Granted,  Hoşgeldin Deniz\")\n",
        "\n",
        "elif name == \"Yusuf\":\n",
        "  print(\"Access Granted, Hoşgeldin Yusuf\")\n",
        "\n",
        "else :\n",
        "  print(\"Access Denied\")"
      ],
      "metadata": {
        "colab": {
          "base_uri": "https://localhost:8080/"
        },
        "id": "SCugx0LGYHZH",
        "outputId": "86f25a70-d0bd-468b-9765-5a56099f7cac"
      },
      "execution_count": null,
      "outputs": [
        {
          "output_type": "stream",
          "name": "stdout",
          "text": [
            "Access Granted, Hoşgeldin Yusuf\n"
          ]
        }
      ]
    },
    {
      "cell_type": "code",
      "source": [
        "# Python program to illustrate nested If statement\n",
        "\n",
        "i = 10\n",
        "j = 20\n",
        "if (i == 10):\n",
        "    print(\"i equals 10\")\n",
        "    #  First if statement\n",
        "    if (j < 15):\n",
        "        print(\"j is smaller than 15\")\n",
        "\n",
        "    # Nested - if statement\n",
        "    # Will only be executed if statement above\n",
        "    # it is true\n",
        "    if (i < 12):\n",
        "        print(\"j is smaller than 12 too\")\n",
        "    else:\n",
        "        print(\"j is greater than 15\")"
      ],
      "metadata": {
        "colab": {
          "base_uri": "https://localhost:8080/"
        },
        "id": "OGKyE0wVY_9S",
        "outputId": "1411d767-8392-443d-a001-26f4d9b34132"
      },
      "execution_count": null,
      "outputs": [
        {
          "output_type": "stream",
          "name": "stdout",
          "text": [
            "i equals 10\n",
            "j is smaller than 12 too\n"
          ]
        }
      ]
    }
  ]
}