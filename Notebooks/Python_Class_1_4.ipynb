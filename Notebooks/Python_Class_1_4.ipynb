{
  "nbformat": 4,
  "nbformat_minor": 0,
  "metadata": {
    "colab": {
      "provenance": []
    },
    "kernelspec": {
      "name": "python3",
      "display_name": "Python 3"
    },
    "language_info": {
      "name": "python"
    }
  },
  "cells": [
    {
      "cell_type": "code",
      "execution_count": null,
      "metadata": {
        "colab": {
          "base_uri": "https://localhost:8080/"
        },
        "id": "lsgnNig5Fma8",
        "outputId": "e30c8e8d-13e0-46df-cc74-169b8bec822a"
      },
      "outputs": [
        {
          "output_type": "stream",
          "name": "stdout",
          "text": [
            "This is a string\n",
            "This is a string\n",
            "This is a string\n",
            "T\n",
            "h\n",
            "This \n"
          ]
        }
      ],
      "source": [
        "# Strings\n",
        "\n",
        "a = 'This is a string'\n",
        "print (a)\n",
        "b = \"This is a string\"\n",
        "print (b)\n",
        "c= '''This is a string'''\n",
        "print (c)\n",
        "\n",
        "print(a[0])\n",
        "print(b[1])\n",
        "print(c[0:5])\n",
        "\n",
        "\n"
      ]
    },
    {
      "cell_type": "code",
      "source": [
        "# Type Conversions\n",
        "\n",
        "a = 10\n",
        "b = \"20\"\n",
        "print(type(a))\n",
        "print(type(b))\n",
        "\n",
        "b = int(b)\n",
        "print(type(b))\n",
        "\n",
        "a = str(a)\n",
        "print(type(a))\n"
      ],
      "metadata": {
        "colab": {
          "base_uri": "https://localhost:8080/"
        },
        "id": "KtpnUnI2GtBQ",
        "outputId": "c94a1ca5-17eb-47a6-8c59-0e5ef7285c08"
      },
      "execution_count": null,
      "outputs": [
        {
          "output_type": "stream",
          "name": "stdout",
          "text": [
            "<class 'int'>\n",
            "<class 'str'>\n",
            "<class 'int'>\n",
            "<class 'str'>\n"
          ]
        }
      ]
    },
    {
      "cell_type": "code",
      "source": [
        "# Lists\n",
        "\n",
        "print(list([1,2,3, \"four\", \"five\", 6.5]))\n",
        "a = list([1,2,3, \"four\", \"five\", 6.5])\n",
        "print(type(a))\n",
        "\n",
        "myList = [1, 2, 3, 4, (\"Five\", 5), \"Six\"]\n",
        "\n",
        "print(myList)\n",
        "print(type(myList))"
      ],
      "metadata": {
        "colab": {
          "base_uri": "https://localhost:8080/"
        },
        "id": "Dp3wQvB-F2uh",
        "outputId": "61158889-ccb0-41d1-80ef-da8c8a0615f7"
      },
      "execution_count": null,
      "outputs": [
        {
          "output_type": "stream",
          "name": "stdout",
          "text": [
            "[1, 2, 3, 'four', 'five', 6.5]\n",
            "<class 'list'>\n",
            "[1, 2, 3, 4, ('Five', 5), 'Six']\n",
            "<class 'list'>\n"
          ]
        }
      ]
    },
    {
      "cell_type": "code",
      "source": [
        "print(myList[0])\n",
        "print(myList[1])\n",
        "print(myList[0:3])\n",
        "\n"
      ],
      "metadata": {
        "id": "bLE5nEpBIJ7A",
        "colab": {
          "base_uri": "https://localhost:8080/"
        },
        "outputId": "b33b4719-b102-4984-c172-5dc94025e6da"
      },
      "execution_count": null,
      "outputs": [
        {
          "output_type": "stream",
          "name": "stdout",
          "text": [
            "1\n",
            "2\n",
            "[1, 2, 3]\n"
          ]
        }
      ]
    },
    {
      "cell_type": "code",
      "source": [
        "# Adding element to end of the list\n",
        "myList.append(4)\n",
        "print(myList)"
      ],
      "metadata": {
        "colab": {
          "base_uri": "https://localhost:8080/"
        },
        "id": "6Z6NmgisI-Su",
        "outputId": "1cb3321c-0f8f-4a1e-982e-5bde3f30400a"
      },
      "execution_count": null,
      "outputs": [
        {
          "output_type": "stream",
          "name": "stdout",
          "text": [
            "[1, 2, 3, 4, ('Five', 5), 'Six', 4]\n"
          ]
        }
      ]
    },
    {
      "cell_type": "code",
      "source": [
        "# Adding element to a given index in the list\n",
        "myList.insert(3, \"inserted element\")\n",
        "print(myList)"
      ],
      "metadata": {
        "colab": {
          "base_uri": "https://localhost:8080/"
        },
        "id": "HyGel8IyJCwh",
        "outputId": "e754bef9-1e72-4823-8677-86e1475c56c5"
      },
      "execution_count": null,
      "outputs": [
        {
          "output_type": "stream",
          "name": "stdout",
          "text": [
            "[1, 2, 3, 'inserted element', 4, ('Five', 5), 'Six', 4]\n"
          ]
        }
      ]
    },
    {
      "cell_type": "code",
      "source": [
        "# Removing an element from the list\n",
        "myList=[\"a\", \"b\", \"c\" ,4,5,6,7]\n",
        "myList.pop(3)\n",
        "print(myList)"
      ],
      "metadata": {
        "colab": {
          "base_uri": "https://localhost:8080/"
        },
        "id": "GyngH6fkJirC",
        "outputId": "8d410117-a801-4eb8-e23d-ba7264fff6a4"
      },
      "execution_count": null,
      "outputs": [
        {
          "output_type": "stream",
          "name": "stdout",
          "text": [
            "['a', 'b', 'c', 5, 6, 7]\n"
          ]
        }
      ]
    },
    {
      "cell_type": "code",
      "source": [
        "# Removing the first element with specified value in the list\n",
        "myList.remove(\"c\")\n",
        "print(myList)"
      ],
      "metadata": {
        "colab": {
          "base_uri": "https://localhost:8080/"
        },
        "id": "TZKNj6aGJwIQ",
        "outputId": "8a45a15b-e79b-47b8-f78e-c2b252da61b2"
      },
      "execution_count": null,
      "outputs": [
        {
          "output_type": "stream",
          "name": "stdout",
          "text": [
            "['a', 'b', 5, 6, 7]\n"
          ]
        }
      ]
    },
    {
      "cell_type": "code",
      "source": [
        "# Removing All the elements in the list\n",
        "myList.clear()\n",
        "print(myList)"
      ],
      "metadata": {
        "colab": {
          "base_uri": "https://localhost:8080/"
        },
        "id": "ZiGrLWjwJ8HP",
        "outputId": "9f8bd509-6687-493a-aa2d-d4bdd217080c"
      },
      "execution_count": null,
      "outputs": [
        {
          "output_type": "stream",
          "name": "stdout",
          "text": [
            "[]\n"
          ]
        }
      ]
    },
    {
      "cell_type": "code",
      "source": [
        "myList = [10,25,2,14,7,58]\n",
        "\n",
        "# Sorting All the elements in the list\n",
        "myList.sort() # reverse = False default\n",
        "print(myList)"
      ],
      "metadata": {
        "colab": {
          "base_uri": "https://localhost:8080/"
        },
        "id": "w6xX39B7KHHA",
        "outputId": "67bce698-8696-4ab6-ad88-2c00818e115c"
      },
      "execution_count": null,
      "outputs": [
        {
          "output_type": "stream",
          "name": "stdout",
          "text": [
            "[2, 7, 10, 14, 25, 58]\n"
          ]
        }
      ]
    },
    {
      "cell_type": "code",
      "source": [
        "# Sorting All the elements in descending order in the list\n",
        "myList.sort(reverse=True)\n",
        "print(myList)"
      ],
      "metadata": {
        "colab": {
          "base_uri": "https://localhost:8080/"
        },
        "id": "T-Xye1DRKZkh",
        "outputId": "2b9cbc93-0fcf-4beb-f7fb-32590ec81b3c"
      },
      "execution_count": null,
      "outputs": [
        {
          "output_type": "stream",
          "name": "stdout",
          "text": [
            "[58, 25, 14, 10, 7, 2]\n"
          ]
        }
      ]
    },
    {
      "cell_type": "code",
      "source": [
        "# Tuples\n",
        "\n",
        "tup = (1, \"a\", \"string\", 1+2)\n",
        "print(tup)\n",
        "print(tup[1])"
      ],
      "metadata": {
        "colab": {
          "base_uri": "https://localhost:8080/"
        },
        "id": "Enwvdkh1KuOw",
        "outputId": "e3b621f0-ff4b-4b4e-8001-b1054e0d4aa0"
      },
      "execution_count": null,
      "outputs": [
        {
          "output_type": "stream",
          "name": "stdout",
          "text": [
            "(1, 'a', 'string', 3)\n",
            "a\n"
          ]
        }
      ]
    },
    {
      "cell_type": "code",
      "source": [
        "# Sets\n",
        "\n",
        "MySet = {1, 2, 3, 4, \"Hello\", \"World\", (\"Deniz\", 21)}\n",
        "print(MySet)\n",
        "# typecasting list to set\n",
        "myset = set({\"s\", \"g\", \"d\"})\n",
        "print(myset)\n",
        "\n",
        "\n",
        "\n",
        "# Adding element to the set\n",
        "myset.add(\"x\")\n",
        "print(myset)\n",
        "\n",
        "\n",
        "\n",
        "\n"
      ],
      "metadata": {
        "colab": {
          "base_uri": "https://localhost:8080/"
        },
        "id": "HvR-TlTDMdEh",
        "outputId": "93e1ee76-24b7-4279-b1f9-d16b61421057"
      },
      "execution_count": null,
      "outputs": [
        {
          "output_type": "stream",
          "name": "stdout",
          "text": [
            "{('Deniz', 21), 1, 2, 3, 4, 'World', 'Hello'}\n",
            "{'g', 's', 'd'}\n",
            "{'g', 's', 'd', 'x'}\n"
          ]
        }
      ]
    },
    {
      "cell_type": "code",
      "source": [
        "# Removing a random element from the set and\n",
        "print(myset.pop())"
      ],
      "metadata": {
        "id": "PXP73gkUQqJ2",
        "colab": {
          "base_uri": "https://localhost:8080/"
        },
        "outputId": "c47b4c16-4379-46c9-a8c2-3c574943f151"
      },
      "execution_count": null,
      "outputs": [
        {
          "output_type": "stream",
          "name": "stdout",
          "text": [
            "g\n"
          ]
        }
      ]
    },
    {
      "cell_type": "code",
      "source": [
        "# Merging sets\n",
        "\n",
        "list1 = [1, 2, 3]\n",
        "list2 = [5, 6, 7]\n",
        "list3 = [10, 11, 12]\n",
        "set1 = set(list2)\n",
        "set2 = set(list1)\n",
        "set1.update(set2)\n",
        "print(set1)\n",
        "set1.update(list3)\n",
        "print(set1)"
      ],
      "metadata": {
        "colab": {
          "base_uri": "https://localhost:8080/"
        },
        "id": "xqDcn843Uqny",
        "outputId": "aea2cb9d-1671-4b3e-eeca-d93196aa459a"
      },
      "execution_count": null,
      "outputs": [
        {
          "output_type": "stream",
          "name": "stdout",
          "text": [
            "{1, 2, 3, 5, 6, 7}\n",
            "{1, 2, 3, 5, 6, 7, 10, 11, 12}\n"
          ]
        }
      ]
    },
    {
      "cell_type": "code",
      "source": [
        "# Dictionaries\n",
        "\n",
        "Dict = {1: 'Geeks', 2: 'For', 3: 'Geeks'}\n",
        "print(Dict)\n",
        "\n",
        "\n",
        "Dict = {'Name': 'Geeks', 1: [1, 2, 3, 4]}\n",
        "print(\"\\nDictionary with the use of Mixed Keys: \")\n",
        "print(Dict)"
      ],
      "metadata": {
        "colab": {
          "base_uri": "https://localhost:8080/"
        },
        "id": "JJabUmGrVHLK",
        "outputId": "cd3e4b30-75b4-460a-b803-b52425368179"
      },
      "execution_count": null,
      "outputs": [
        {
          "output_type": "stream",
          "name": "stdout",
          "text": [
            "{1: 'Geeks', 2: 'For', 3: 'Geeks'}\n",
            "\n",
            "Dictionary with the use of Mixed Keys: \n",
            "{'Name': 'Geeks', 1: [1, 2, 3, 4]}\n"
          ]
        }
      ]
    },
    {
      "cell_type": "code",
      "source": [
        "# Different ways to create dictionery\n",
        "\n",
        "Dict = {}\n",
        "print(\"Empty Dictionary: \")\n",
        "print(Dict)\n",
        "\n",
        "Dict = dict({1: 'Geeks', 2: 'For', 3: 'Geeks'})\n",
        "print(\"\\nDictionary with the use of dict(): \")\n",
        "print(Dict)\n",
        "\n",
        "Dict = dict([(1, 'Geeks'), (2, 'For')])\n",
        "print(\"\\nDictionary with each item as a pair: \")\n",
        "print(Dict)"
      ],
      "metadata": {
        "colab": {
          "base_uri": "https://localhost:8080/"
        },
        "id": "f25ryLFEWECp",
        "outputId": "2e7c2fe9-e8c5-4ea1-e8ce-894f596a47c1"
      },
      "execution_count": null,
      "outputs": [
        {
          "output_type": "stream",
          "name": "stdout",
          "text": [
            "Empty Dictionary: \n",
            "{}\n",
            "\n",
            "Dictionary with the use of dict(): \n",
            "{1: 'Geeks', 2: 'For', 3: 'Geeks'}\n",
            "\n",
            "Dictionary with each item as a pair: \n",
            "{1: 'Geeks', 2: 'For'}\n"
          ]
        }
      ]
    },
    {
      "cell_type": "code",
      "source": [
        "# Nested Dictionaries\n",
        "\n",
        "\n",
        "Dict = {\"First\": 'Geeks', 2: 'For',\n",
        "        3: {'A': 'Welcome', 'B': 'To', 'C': 'Geeks'}}\n",
        "\n",
        "print(Dict)"
      ],
      "metadata": {
        "colab": {
          "base_uri": "https://localhost:8080/"
        },
        "id": "p1E_x0ppWKtL",
        "outputId": "ddc43603-b96b-4bae-ef38-335907f7a9d5"
      },
      "execution_count": null,
      "outputs": [
        {
          "output_type": "stream",
          "name": "stdout",
          "text": [
            "{'First': 'Geeks', 2: 'For', 3: {'A': 'Welcome', 'B': 'To', 'C': 'Geeks'}}\n"
          ]
        }
      ]
    },
    {
      "cell_type": "code",
      "source": [
        "print(Dict[2])"
      ],
      "metadata": {
        "colab": {
          "base_uri": "https://localhost:8080/"
        },
        "id": "e624aCZWT-kz",
        "outputId": "3e237bd3-c7ef-4182-e9f0-6d85e4db4a6f"
      },
      "execution_count": null,
      "outputs": [
        {
          "output_type": "stream",
          "name": "stdout",
          "text": [
            "For\n"
          ]
        }
      ]
    },
    {
      "cell_type": "code",
      "source": [
        "#Adding/Updating element in dictionary\n",
        "\n",
        "myDict = {1:\"Yusuf\", 2:\"Deniz\", 3:\"Yasemin\"}\n",
        "myDict[1] = \"Ege\"\n",
        "print(myDict)"
      ],
      "metadata": {
        "colab": {
          "base_uri": "https://localhost:8080/"
        },
        "id": "TWR120yTWUKy",
        "outputId": "75da1138-00fa-47ef-9be6-f4bff06b6911"
      },
      "execution_count": null,
      "outputs": [
        {
          "output_type": "stream",
          "name": "stdout",
          "text": [
            "{1: 'Ege', 2: 'Deniz', 3: 'Yasemin'}\n"
          ]
        }
      ]
    },
    {
      "cell_type": "code",
      "source": [
        "myDict[4] = \"Hakan\""
      ],
      "metadata": {
        "id": "6YZvUxx6We4w"
      },
      "execution_count": null,
      "outputs": []
    },
    {
      "cell_type": "code",
      "source": [
        "print(myDict)"
      ],
      "metadata": {
        "colab": {
          "base_uri": "https://localhost:8080/"
        },
        "id": "zub5R_KVWjcg",
        "outputId": "5233756c-59c9-4e48-d235-b3cdb1b81e7b"
      },
      "execution_count": null,
      "outputs": [
        {
          "output_type": "stream",
          "name": "stdout",
          "text": [
            "{1: 'Ege', 2: 'Deniz', 3: 'Yasemin', 4: 'Hakan'}\n"
          ]
        }
      ]
    }
  ]
}