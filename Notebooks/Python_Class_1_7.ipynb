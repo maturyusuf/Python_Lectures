{
  "nbformat": 4,
  "nbformat_minor": 0,
  "metadata": {
    "colab": {
      "provenance": []
    },
    "kernelspec": {
      "name": "python3",
      "display_name": "Python 3"
    },
    "language_info": {
      "name": "python"
    }
  },
  "cells": [
    {
      "cell_type": "code",
      "execution_count": null,
      "metadata": {
        "id": "Ur2MQ8ObSckr"
      },
      "outputs": [],
      "source": [
        "def printHello(name=\"User\"):\n",
        "  print(\"Hello\" +  \" \"+ name)"
      ]
    },
    {
      "cell_type": "code",
      "source": [
        "printHello()"
      ],
      "metadata": {
        "colab": {
          "base_uri": "https://localhost:8080/"
        },
        "id": "fH4prSCgTDYJ",
        "outputId": "298145f2-a056-4842-f647-3a66f32d3542"
      },
      "execution_count": null,
      "outputs": [
        {
          "output_type": "stream",
          "name": "stdout",
          "text": [
            "Hello User\n"
          ]
        }
      ]
    },
    {
      "cell_type": "code",
      "source": [
        "def printHello():\n",
        "  print(\"Hello Word\")"
      ],
      "metadata": {
        "id": "dH2MSVNwTKvy"
      },
      "execution_count": null,
      "outputs": []
    },
    {
      "cell_type": "code",
      "source": [
        "def sum(number1, number2):\n",
        "  summed_value = number1 + number2\n",
        "  return summed_value"
      ],
      "metadata": {
        "id": "StB6yyw4UPWZ"
      },
      "execution_count": null,
      "outputs": []
    },
    {
      "cell_type": "code",
      "source": [
        "def student(name, year,grade ):\n",
        "  student_info= \"name:\" + name+  \"year: \" + year + \"grade: \" + grade\n",
        "  return student_info\n",
        "\n"
      ],
      "metadata": {
        "id": "9FRYEkY4U1rw"
      },
      "execution_count": null,
      "outputs": []
    },
    {
      "cell_type": "code",
      "source": [
        "student(\"Enver\", \"2023\", \"10\")"
      ],
      "metadata": {
        "colab": {
          "base_uri": "https://localhost:8080/",
          "height": 36
        },
        "id": "Li4eG7aPXFNw",
        "outputId": "f14c9b10-1703-47ab-c926-1d614425e708"
      },
      "execution_count": null,
      "outputs": [
        {
          "output_type": "execute_result",
          "data": {
            "text/plain": [
              "'name:Enveryear: 2023grade: 10'"
            ],
            "application/vnd.google.colaboratory.intrinsic+json": {
              "type": "string"
            }
          },
          "metadata": {},
          "execution_count": 26
        }
      ]
    },
    {
      "cell_type": "code",
      "source": [
        "\n"
      ],
      "metadata": {
        "id": "g1tNQOZdXJrU"
      },
      "execution_count": null,
      "outputs": []
    }
  ]
}